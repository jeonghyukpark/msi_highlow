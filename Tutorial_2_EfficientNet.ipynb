{
 "cells": [
  {
   "cell_type": "markdown",
   "id": "94023b73-27c1-4c27-bd65-462774127c4b",
   "metadata": {},
   "source": [
    "# Tutorial 2 : EfficientNet - MSI classification model and Tissue classification model"
   ]
  },
  {
   "cell_type": "code",
   "execution_count": 1,
   "id": "5b792fb4-4a4d-49ae-b7dc-8565280c7495",
   "metadata": {},
   "outputs": [],
   "source": [
    "import msi.efficientnet as efficientnet\n",
    "import torch\n",
    "\n",
    "\n",
    "if torch.cuda.is_available():\n",
    "    device = torch.device(\"cuda\")\n",
    "    print(\"GPU is available\")\n",
    "else:\n",
    "    device = torch.device(\"cpu\")\n",
    "    print(\"GPU not available, CPU used\")\n"
   ]
  },
  {
   "cell_type": "code",
   "execution_count": 2,
   "id": "ebb4a3d6-0675-46fc-a94d-47a91248a6b2",
   "metadata": {},
   "outputs": [
    {
     "name": "stdout",
     "output_type": "stream",
     "text": [
      "GPU is available\n"
     ]
    }
   ],
   "source": [
    "\n",
    "CFG = {'fold':5, \n",
    "       'baseline': 'efficientnet',\n",
    "       'freeze_layer':None,\n",
    "       'batch_size':96,\n",
    "       'num_classes':2,\n",
    "       'model_dir':'./data/model_weights/',\n",
    "       'model_unique_name':'MSI',\n",
    "       'model_unique_identifier':'f36663dc'}\n",
    "\n",
    "image_sample_paths = ['./data/patch_sample/blk-TMIGEPVTWTVC-TCGA-AA-3837-01Z-00-DX1.png',\n",
    "                      './data/patch_sample/blk-EYIAGQICRLWL-TCGA-CM-4743-01Z-00-DX1.png']\n",
    "    \n"
   ]
  },
  {
   "cell_type": "code",
   "execution_count": 3,
   "id": "1cf63ac5-ce84-4ab5-9a1b-02d7f1159560",
   "metadata": {},
   "outputs": [
    {
     "name": "stdout",
     "output_type": "stream",
     "text": [
      "Loaded pretrained weights for efficientnet-b0\n",
      "MODEL LOADED : efficientnet-b0\n"
     ]
    },
    {
     "name": "stderr",
     "output_type": "stream",
     "text": [
      "Inference: 100%|████████████████████████████████████████████████████████████████████████████████████████████████████████████████████████████████████████████████████████████████████| 1/1 [00:01<00:00,  1.34s/it]\n",
      "Inference: 100%|████████████████████████████████████████████████████████████████████████████████████████████████████████████████████████████████████████████████████████████████████| 1/1 [00:00<00:00,  1.11it/s]\n",
      "Inference: 100%|████████████████████████████████████████████████████████████████████████████████████████████████████████████████████████████████████████████████████████████████████| 1/1 [00:00<00:00,  1.12it/s]\n",
      "Inference: 100%|████████████████████████████████████████████████████████████████████████████████████████████████████████████████████████████████████████████████████████████████████| 1/1 [00:00<00:00,  1.12it/s]\n",
      "Inference: 100%|████████████████████████████████████████████████████████████████████████████████████████████████████████████████████████████████████████████████████████████████████| 1/1 [00:00<00:00,  1.12it/s]\n"
     ]
    }
   ],
   "source": [
    "df_result = efficientnet.run_msi(image_paths = image_sample_paths, \n",
    "                                 CFG = CFG,\n",
    "                                 device = device)"
   ]
  },
  {
   "cell_type": "code",
   "execution_count": 4,
   "id": "b9ea9055-b905-4c76-8cf9-1b6a85c89395",
   "metadata": {},
   "outputs": [
    {
     "data": {
      "text/html": [
       "<div>\n",
       "<style scoped>\n",
       "    .dataframe tbody tr th:only-of-type {\n",
       "        vertical-align: middle;\n",
       "    }\n",
       "\n",
       "    .dataframe tbody tr th {\n",
       "        vertical-align: top;\n",
       "    }\n",
       "\n",
       "    .dataframe thead th {\n",
       "        text-align: right;\n",
       "    }\n",
       "</style>\n",
       "<table border=\"1\" class=\"dataframe\">\n",
       "  <thead>\n",
       "    <tr style=\"text-align: right;\">\n",
       "      <th></th>\n",
       "      <th>path</th>\n",
       "      <th>pred_F0</th>\n",
       "      <th>pred_F1</th>\n",
       "      <th>pred_F2</th>\n",
       "      <th>pred_F3</th>\n",
       "      <th>pred_F4</th>\n",
       "    </tr>\n",
       "  </thead>\n",
       "  <tbody>\n",
       "    <tr>\n",
       "      <th>0</th>\n",
       "      <td>./data/patch_sample/blk-TMIGEPVTWTVC-TCGA-AA-3...</td>\n",
       "      <td>1.532506e-08</td>\n",
       "      <td>4.547494e-07</td>\n",
       "      <td>1.003829e-20</td>\n",
       "      <td>1.764447e-08</td>\n",
       "      <td>1.398138e-16</td>\n",
       "    </tr>\n",
       "    <tr>\n",
       "      <th>1</th>\n",
       "      <td>./data/patch_sample/blk-EYIAGQICRLWL-TCGA-CM-4...</td>\n",
       "      <td>9.999824e-01</td>\n",
       "      <td>9.995509e-01</td>\n",
       "      <td>9.998235e-01</td>\n",
       "      <td>9.998280e-01</td>\n",
       "      <td>9.999999e-01</td>\n",
       "    </tr>\n",
       "  </tbody>\n",
       "</table>\n",
       "</div>"
      ],
      "text/plain": [
       "                                                path       pred_F0  \\\n",
       "0  ./data/patch_sample/blk-TMIGEPVTWTVC-TCGA-AA-3...  1.532506e-08   \n",
       "1  ./data/patch_sample/blk-EYIAGQICRLWL-TCGA-CM-4...  9.999824e-01   \n",
       "\n",
       "        pred_F1       pred_F2       pred_F3       pred_F4  \n",
       "0  4.547494e-07  1.003829e-20  1.764447e-08  1.398138e-16  \n",
       "1  9.995509e-01  9.998235e-01  9.998280e-01  9.999999e-01  "
      ]
     },
     "execution_count": 4,
     "metadata": {},
     "output_type": "execute_result"
    }
   ],
   "source": [
    "df_result"
   ]
  },
  {
   "cell_type": "code",
   "execution_count": 5,
   "id": "7cb00eb8-302f-4983-9de5-41bb68adb9fa",
   "metadata": {},
   "outputs": [
    {
     "name": "stdout",
     "output_type": "stream",
     "text": [
      "{'fold': 5, 'baseline': 'efficientnet', 'freeze_layer': None, 'batch_size': 96, 'num_classes': 9, 'model_dir': './data/model_weights/', 'model_unique_name': 'Tissue', 'model_unique_identifier': '022c52d3'}\n",
      "Loaded pretrained weights for efficientnet-b0\n",
      "MODEL LOADED : efficientnet-b0\n"
     ]
    },
    {
     "name": "stderr",
     "output_type": "stream",
     "text": [
      "Inference: 100%|████████████████████████████████████████████████████████████████████████████████████████████████████████████████████████████████████████████████████████████████████| 1/1 [00:00<00:00,  1.10it/s]\n",
      "Inference: 100%|████████████████████████████████████████████████████████████████████████████████████████████████████████████████████████████████████████████████████████████████████| 1/1 [00:00<00:00,  1.11it/s]\n",
      "Inference: 100%|████████████████████████████████████████████████████████████████████████████████████████████████████████████████████████████████████████████████████████████████████| 1/1 [00:00<00:00,  1.12it/s]\n",
      "Inference: 100%|████████████████████████████████████████████████████████████████████████████████████████████████████████████████████████████████████████████████████████████████████| 1/1 [00:00<00:00,  1.12it/s]\n",
      "Inference: 100%|████████████████████████████████████████████████████████████████████████████████████████████████████████████████████████████████████████████████████████████████████| 1/1 [00:00<00:00,  1.11it/s]\n"
     ]
    }
   ],
   "source": [
    "CFG = {'fold':5, \n",
    "       'baseline': 'efficientnet',\n",
    "       'freeze_layer':None,\n",
    "       'batch_size':96,\n",
    "       'num_classes':9,\n",
    "       'model_dir':'./data/model_weights/',\n",
    "       'model_unique_name':'Tissue',\n",
    "       'model_unique_identifier':'022c52d3'}\n",
    "\n",
    "print(CFG)\n",
    "\n",
    "df_result = efficientnet.run_tissue(image_paths = image_sample_paths, \n",
    "                                    CFG = CFG,\n",
    "                                    device = device)"
   ]
  },
  {
   "cell_type": "code",
   "execution_count": 6,
   "id": "88db401e-4cd2-47ae-b662-390a87b55f90",
   "metadata": {},
   "outputs": [
    {
     "data": {
      "text/html": [
       "<div>\n",
       "<style scoped>\n",
       "    .dataframe tbody tr th:only-of-type {\n",
       "        vertical-align: middle;\n",
       "    }\n",
       "\n",
       "    .dataframe tbody tr th {\n",
       "        vertical-align: top;\n",
       "    }\n",
       "\n",
       "    .dataframe thead th {\n",
       "        text-align: right;\n",
       "    }\n",
       "</style>\n",
       "<table border=\"1\" class=\"dataframe\">\n",
       "  <thead>\n",
       "    <tr style=\"text-align: right;\">\n",
       "      <th></th>\n",
       "      <th>path</th>\n",
       "      <th>prob_ADI_F0</th>\n",
       "      <th>prob_BACK_F0</th>\n",
       "      <th>prob_DEB_F0</th>\n",
       "      <th>prob_LYM_F0</th>\n",
       "      <th>prob_MUC_F0</th>\n",
       "      <th>prob_MUS_F0</th>\n",
       "      <th>prob_NORM_F0</th>\n",
       "      <th>prob_STR_F0</th>\n",
       "      <th>prob_TUM_F0</th>\n",
       "      <th>...</th>\n",
       "      <th>prob_BACK</th>\n",
       "      <th>prob_DEB</th>\n",
       "      <th>prob_LYM</th>\n",
       "      <th>prob_MUC</th>\n",
       "      <th>prob_MUS</th>\n",
       "      <th>prob_NORM</th>\n",
       "      <th>prob_STR</th>\n",
       "      <th>prob_TUM</th>\n",
       "      <th>tissue_type_ind</th>\n",
       "      <th>tissue_type</th>\n",
       "    </tr>\n",
       "  </thead>\n",
       "  <tbody>\n",
       "    <tr>\n",
       "      <th>0</th>\n",
       "      <td>./data/patch_sample/blk-TMIGEPVTWTVC-TCGA-AA-3...</td>\n",
       "      <td>0.002515</td>\n",
       "      <td>0.003001</td>\n",
       "      <td>0.041725</td>\n",
       "      <td>0.356289</td>\n",
       "      <td>0.004239</td>\n",
       "      <td>0.003117</td>\n",
       "      <td>0.172732</td>\n",
       "      <td>0.003492</td>\n",
       "      <td>0.412889</td>\n",
       "      <td>...</td>\n",
       "      <td>0.000685</td>\n",
       "      <td>0.008414</td>\n",
       "      <td>0.075246</td>\n",
       "      <td>0.000912</td>\n",
       "      <td>0.000710</td>\n",
       "      <td>0.216785</td>\n",
       "      <td>0.000762</td>\n",
       "      <td>0.695906</td>\n",
       "      <td>8</td>\n",
       "      <td>TUM</td>\n",
       "    </tr>\n",
       "    <tr>\n",
       "      <th>1</th>\n",
       "      <td>./data/patch_sample/blk-EYIAGQICRLWL-TCGA-CM-4...</td>\n",
       "      <td>0.000014</td>\n",
       "      <td>0.000019</td>\n",
       "      <td>0.006664</td>\n",
       "      <td>0.993152</td>\n",
       "      <td>0.000015</td>\n",
       "      <td>0.000024</td>\n",
       "      <td>0.000005</td>\n",
       "      <td>0.000020</td>\n",
       "      <td>0.000087</td>\n",
       "      <td>...</td>\n",
       "      <td>0.000138</td>\n",
       "      <td>0.043734</td>\n",
       "      <td>0.955018</td>\n",
       "      <td>0.000109</td>\n",
       "      <td>0.000105</td>\n",
       "      <td>0.000070</td>\n",
       "      <td>0.000087</td>\n",
       "      <td>0.000621</td>\n",
       "      <td>3</td>\n",
       "      <td>LYM</td>\n",
       "    </tr>\n",
       "  </tbody>\n",
       "</table>\n",
       "<p>2 rows × 57 columns</p>\n",
       "</div>"
      ],
      "text/plain": [
       "                                                path  prob_ADI_F0  \\\n",
       "0  ./data/patch_sample/blk-TMIGEPVTWTVC-TCGA-AA-3...     0.002515   \n",
       "1  ./data/patch_sample/blk-EYIAGQICRLWL-TCGA-CM-4...     0.000014   \n",
       "\n",
       "   prob_BACK_F0  prob_DEB_F0  prob_LYM_F0  prob_MUC_F0  prob_MUS_F0  \\\n",
       "0      0.003001     0.041725     0.356289     0.004239     0.003117   \n",
       "1      0.000019     0.006664     0.993152     0.000015     0.000024   \n",
       "\n",
       "   prob_NORM_F0  prob_STR_F0  prob_TUM_F0  ...  prob_BACK  prob_DEB  prob_LYM  \\\n",
       "0      0.172732     0.003492     0.412889  ...   0.000685  0.008414  0.075246   \n",
       "1      0.000005     0.000020     0.000087  ...   0.000138  0.043734  0.955018   \n",
       "\n",
       "   prob_MUC  prob_MUS  prob_NORM  prob_STR  prob_TUM  tissue_type_ind  \\\n",
       "0  0.000912  0.000710   0.216785  0.000762  0.695906                8   \n",
       "1  0.000109  0.000105   0.000070  0.000087  0.000621                3   \n",
       "\n",
       "   tissue_type  \n",
       "0          TUM  \n",
       "1          LYM  \n",
       "\n",
       "[2 rows x 57 columns]"
      ]
     },
     "execution_count": 6,
     "metadata": {},
     "output_type": "execute_result"
    }
   ],
   "source": [
    "df_result"
   ]
  },
  {
   "cell_type": "code",
   "execution_count": 7,
   "id": "8d3e74a5-90c7-4d66-9dfc-9da5a1c91bc5",
   "metadata": {},
   "outputs": [
    {
     "data": {
      "text/html": [
       "<div>\n",
       "<style scoped>\n",
       "    .dataframe tbody tr th:only-of-type {\n",
       "        vertical-align: middle;\n",
       "    }\n",
       "\n",
       "    .dataframe tbody tr th {\n",
       "        vertical-align: top;\n",
       "    }\n",
       "\n",
       "    .dataframe thead th {\n",
       "        text-align: right;\n",
       "    }\n",
       "</style>\n",
       "<table border=\"1\" class=\"dataframe\">\n",
       "  <thead>\n",
       "    <tr style=\"text-align: right;\">\n",
       "      <th></th>\n",
       "      <th>path</th>\n",
       "      <th>tissue_type</th>\n",
       "      <th>prob_ADI</th>\n",
       "      <th>prob_BACK</th>\n",
       "      <th>prob_DEB</th>\n",
       "      <th>prob_LYM</th>\n",
       "      <th>prob_MUC</th>\n",
       "      <th>prob_MUS</th>\n",
       "      <th>prob_NORM</th>\n",
       "      <th>prob_STR</th>\n",
       "      <th>prob_TUM</th>\n",
       "    </tr>\n",
       "  </thead>\n",
       "  <tbody>\n",
       "    <tr>\n",
       "      <th>0</th>\n",
       "      <td>./data/patch_sample/blk-TMIGEPVTWTVC-TCGA-AA-3...</td>\n",
       "      <td>TUM</td>\n",
       "      <td>0.000579</td>\n",
       "      <td>0.000685</td>\n",
       "      <td>0.008414</td>\n",
       "      <td>0.075246</td>\n",
       "      <td>0.000912</td>\n",
       "      <td>0.000710</td>\n",
       "      <td>0.216785</td>\n",
       "      <td>0.000762</td>\n",
       "      <td>0.695906</td>\n",
       "    </tr>\n",
       "    <tr>\n",
       "      <th>1</th>\n",
       "      <td>./data/patch_sample/blk-EYIAGQICRLWL-TCGA-CM-4...</td>\n",
       "      <td>LYM</td>\n",
       "      <td>0.000119</td>\n",
       "      <td>0.000138</td>\n",
       "      <td>0.043734</td>\n",
       "      <td>0.955018</td>\n",
       "      <td>0.000109</td>\n",
       "      <td>0.000105</td>\n",
       "      <td>0.000070</td>\n",
       "      <td>0.000087</td>\n",
       "      <td>0.000621</td>\n",
       "    </tr>\n",
       "  </tbody>\n",
       "</table>\n",
       "</div>"
      ],
      "text/plain": [
       "                                                path tissue_type  prob_ADI  \\\n",
       "0  ./data/patch_sample/blk-TMIGEPVTWTVC-TCGA-AA-3...         TUM  0.000579   \n",
       "1  ./data/patch_sample/blk-EYIAGQICRLWL-TCGA-CM-4...         LYM  0.000119   \n",
       "\n",
       "   prob_BACK  prob_DEB  prob_LYM  prob_MUC  prob_MUS  prob_NORM  prob_STR  \\\n",
       "0   0.000685  0.008414  0.075246  0.000912  0.000710   0.216785  0.000762   \n",
       "1   0.000138  0.043734  0.955018  0.000109  0.000105   0.000070  0.000087   \n",
       "\n",
       "   prob_TUM  \n",
       "0  0.695906  \n",
       "1  0.000621  "
      ]
     },
     "execution_count": 7,
     "metadata": {},
     "output_type": "execute_result"
    }
   ],
   "source": [
    "tissue_labels = ['ADI', 'BACK', 'DEB', 'LYM', 'MUC', 'MUS', 'NORM', 'STR', 'TUM']\n",
    "df_result[['path', 'tissue_type'] + [f'prob_{tissue_label}' for tissue_label in tissue_labels]]"
   ]
  },
  {
   "cell_type": "code",
   "execution_count": null,
   "id": "3f1e1ed7-ef16-4d74-88e2-bc7567ff07db",
   "metadata": {},
   "outputs": [],
   "source": []
  },
  {
   "cell_type": "code",
   "execution_count": null,
   "id": "c9bcf039-86b1-4ddc-951f-09291440bb78",
   "metadata": {},
   "outputs": [],
   "source": []
  }
 ],
 "metadata": {
  "kernelspec": {
   "display_name": "Python 3 (ipykernel)",
   "language": "python",
   "name": "python3"
  },
  "language_info": {
   "codemirror_mode": {
    "name": "ipython",
    "version": 3
   },
   "file_extension": ".py",
   "mimetype": "text/x-python",
   "name": "python",
   "nbconvert_exporter": "python",
   "pygments_lexer": "ipython3",
   "version": "3.7.11"
  }
 },
 "nbformat": 4,
 "nbformat_minor": 5
}
