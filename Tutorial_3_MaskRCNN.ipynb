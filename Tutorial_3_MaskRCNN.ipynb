{
 "cells": [
  {
   "cell_type": "markdown",
   "id": "1396cdb2-addb-458d-81fa-81d356054408",
   "metadata": {},
   "source": [
    "# Tutorial 2 : MaskRCNN - Gland detection model"
   ]
  },
  {
   "cell_type": "code",
   "execution_count": 1,
   "id": "e4ee175d-8fc2-46b2-af7f-91354b0a3dcb",
   "metadata": {},
   "outputs": [],
   "source": [
    "import msi.maskrcnn_gland as gland\n",
    "import torch"
   ]
  },
  {
   "cell_type": "code",
   "execution_count": 2,
   "id": "956208f5-bbb7-4b1d-80cb-e619db02e6b0",
   "metadata": {},
   "outputs": [],
   "source": [
    "DEVICE = torch.device('cuda') if torch.cuda.is_available() else torch.device('cpu')\n",
    "PATH = \"./data/model_weights/Gland_MaskRCNN_6785bfa1.bin\""
   ]
  },
  {
   "cell_type": "code",
   "execution_count": 3,
   "id": "0539e5f3-5a12-40e4-971b-b1790070be73",
   "metadata": {},
   "outputs": [
    {
     "name": "stderr",
     "output_type": "stream",
     "text": [
      "  0%|                                                                                                                                                                                       | 0/2 [00:00<?, ?it/s]/opt/conda/lib/python3.7/site-packages/torch/functional.py:445: UserWarning: torch.meshgrid: in an upcoming release, it will be required to pass the indexing argument. (Triggered internally at  /opt/conda/conda-bld/pytorch_1634272168290/work/aten/src/ATen/native/TensorShape.cpp:2157.)\n",
      "  return _VF.meshgrid(tensors, **kwargs)  # type: ignore[attr-defined]\n",
      "100%|███████████████████████████████████████████████████████████████████████████████████████████████████████████████████████████████████████████████████████████████████████████████| 2/2 [00:00<00:00,  3.04it/s]\n"
     ]
    }
   ],
   "source": [
    "image_sample_paths = ['./data/patch_sample/blk-TMIGEPVTWTVC-TCGA-AA-3837-01Z-00-DX1.png',\n",
    "                      './data/patch_sample/blk-EYIAGQICRLWL-TCGA-CM-4743-01Z-00-DX1.png']\n",
    "predictions = gland.inference(image_paths = image_sample_paths,\n",
    "                              model_path = PATH,\n",
    "                              device = DEVICE)"
   ]
  },
  {
   "cell_type": "code",
   "execution_count": 4,
   "id": "0c98a98c-4819-4307-85f3-b50824446ab2",
   "metadata": {},
   "outputs": [
    {
     "data": {
      "text/plain": [
       "{'blk-TMIGEPVTWTVC-TCGA-AA-3837-01Z-00-DX1': {'masks': array([[[[0., 0., 0., ..., 0., 0., 0.],\n",
       "           [0., 0., 0., ..., 0., 0., 0.],\n",
       "           [0., 0., 0., ..., 0., 0., 0.],\n",
       "           ...,\n",
       "           [0., 0., 0., ..., 0., 0., 0.],\n",
       "           [0., 0., 0., ..., 0., 0., 0.],\n",
       "           [0., 0., 0., ..., 0., 0., 0.]]],\n",
       "  \n",
       "  \n",
       "         [[[0., 0., 0., ..., 0., 0., 0.],\n",
       "           [0., 0., 0., ..., 0., 0., 0.],\n",
       "           [0., 0., 0., ..., 0., 0., 0.],\n",
       "           ...,\n",
       "           [0., 0., 0., ..., 0., 0., 0.],\n",
       "           [0., 0., 0., ..., 0., 0., 0.],\n",
       "           [0., 0., 0., ..., 0., 0., 0.]]],\n",
       "  \n",
       "  \n",
       "         [[[0., 0., 0., ..., 0., 0., 0.],\n",
       "           [0., 0., 0., ..., 0., 0., 0.],\n",
       "           [0., 0., 0., ..., 0., 0., 0.],\n",
       "           ...,\n",
       "           [0., 0., 0., ..., 0., 0., 0.],\n",
       "           [0., 0., 0., ..., 0., 0., 0.],\n",
       "           [0., 0., 0., ..., 0., 0., 0.]]]], dtype=float32),\n",
       "  'scores': array([0.99771935, 0.9799053 , 0.9096092 ], dtype=float32),\n",
       "  'labels': array([2, 2, 2])},\n",
       " 'blk-EYIAGQICRLWL-TCGA-CM-4743-01Z-00-DX1': {'masks': array([], dtype=float64),\n",
       "  'scores': array([], dtype=float64),\n",
       "  'labels': array([], dtype=float64)}}"
      ]
     },
     "execution_count": 4,
     "metadata": {},
     "output_type": "execute_result"
    }
   ],
   "source": [
    "predictions"
   ]
  }
 ],
 "metadata": {
  "kernelspec": {
   "display_name": "Python 3 (ipykernel)",
   "language": "python",
   "name": "python3"
  },
  "language_info": {
   "codemirror_mode": {
    "name": "ipython",
    "version": 3
   },
   "file_extension": ".py",
   "mimetype": "text/x-python",
   "name": "python",
   "nbconvert_exporter": "python",
   "pygments_lexer": "ipython3",
   "version": "3.7.11"
  }
 },
 "nbformat": 4,
 "nbformat_minor": 5
}
